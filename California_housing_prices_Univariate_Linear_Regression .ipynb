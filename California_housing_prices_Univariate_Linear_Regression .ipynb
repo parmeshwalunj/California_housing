{
  "nbformat": 4,
  "nbformat_minor": 0,
  "metadata": {
    "colab": {
      "name": "Copy of DSAlpha | Assignment_1 | Univariate Linear Regression.ipynb",
      "provenance": []
    },
    "kernelspec": {
      "name": "python3",
      "display_name": "Python 3"
    }
  },
  "cells": [
    {
      "cell_type": "code",
      "metadata": {
        "id": "zCF1f1Y7LOeV",
        "colab_type": "code",
        "colab": {}
      },
      "source": [
        "import pandas as pd\n",
        "import numpy as np"
      ],
      "execution_count": 0,
      "outputs": []
    },
    {
      "cell_type": "code",
      "metadata": {
        "id": "x00sykZOLV6u",
        "colab_type": "code",
        "colab": {}
      },
      "source": [
        "data = pd.read_csv('sample_data/california_housing_train.csv')"
      ],
      "execution_count": 0,
      "outputs": []
    },
    {
      "cell_type": "code",
      "metadata": {
        "id": "227nc1je3t_5",
        "colab_type": "code",
        "outputId": "6660da5a-0db6-44a6-dc8a-fadcf7610bcb",
        "colab": {
          "base_uri": "https://localhost:8080/",
          "height": 255
        }
      },
      "source": [
        "print(data)"
      ],
      "execution_count": 0,
      "outputs": [
        {
          "output_type": "stream",
          "text": [
            "       longitude  latitude  ...  median_income  median_house_value\n",
            "0        -114.31     34.19  ...         1.4936             66900.0\n",
            "1        -114.47     34.40  ...         1.8200             80100.0\n",
            "2        -114.56     33.69  ...         1.6509             85700.0\n",
            "3        -114.57     33.64  ...         3.1917             73400.0\n",
            "4        -114.57     33.57  ...         1.9250             65500.0\n",
            "...          ...       ...  ...            ...                 ...\n",
            "16995    -124.26     40.58  ...         2.3571            111400.0\n",
            "16996    -124.27     40.69  ...         2.5179             79000.0\n",
            "16997    -124.30     41.84  ...         3.0313            103600.0\n",
            "16998    -124.30     41.80  ...         1.9797             85800.0\n",
            "16999    -124.35     40.54  ...         3.0147             94600.0\n",
            "\n",
            "[17000 rows x 9 columns]\n"
          ],
          "name": "stdout"
        }
      ]
    },
    {
      "cell_type": "code",
      "metadata": {
        "id": "oayVaIU7Lcgm",
        "colab_type": "code",
        "colab": {}
      },
      "source": [
        "X = data['median_income']\n",
        "y_a = data['median_house_value']"
      ],
      "execution_count": 0,
      "outputs": []
    },
    {
      "cell_type": "code",
      "metadata": {
        "id": "TFG-76TjLyHe",
        "colab_type": "code",
        "colab": {}
      },
      "source": [
        "X = np.array(X)\n",
        "X=X.reshape(17000,1)\n",
        "y_a = np.array(y_a)\n",
        "y_a=y_a.reshape(17000,1)"
      ],
      "execution_count": 0,
      "outputs": []
    },
    {
      "cell_type": "code",
      "metadata": {
        "id": "kKeV47vrpPzI",
        "colab_type": "code",
        "outputId": "ce7c7d91-4431-4e42-a1d4-b79ce03ac316",
        "colab": {
          "base_uri": "https://localhost:8080/",
          "height": 51
        }
      },
      "source": [
        "print(X.shape)\n",
        "print(y_a.shape)"
      ],
      "execution_count": 0,
      "outputs": [
        {
          "output_type": "stream",
          "text": [
            "(17000, 1)\n",
            "(17000, 1)\n"
          ],
          "name": "stdout"
        }
      ]
    },
    {
      "cell_type": "code",
      "metadata": {
        "id": "iwDTtGgZye-V",
        "colab_type": "code",
        "colab": {}
      },
      "source": [
        "def line(m,x,c):\n",
        "  return m*x+c \n",
        "\n",
        "def error(m,x,c,y_a):\n",
        "  return np.mean((line(m,x,c)-y_a)**2)"
      ],
      "execution_count": 0,
      "outputs": []
    },
    {
      "cell_type": "code",
      "metadata": {
        "id": "0PuPerkIy9A3",
        "colab_type": "code",
        "colab": {}
      },
      "source": [
        "def der_m(m,x,c,y_a):\n",
        "  return 2*np.mean((line(m,x,c)-y_a)*x)\n",
        "def der_c(m,x,c,y_a):\n",
        "  return 2*np.mean(line(m,x,c)-y_a)  "
      ],
      "execution_count": 0,
      "outputs": []
    },
    {
      "cell_type": "code",
      "metadata": {
        "id": "XWXJX34Z9NgZ",
        "colab_type": "code",
        "outputId": "a1b74a5b-9e9c-4b8b-888a-8ebe3348ca49",
        "colab": {
          "base_uri": "https://localhost:8080/",
          "height": 34
        }
      },
      "source": [
        ""
      ],
      "execution_count": 0,
      "outputs": [
        {
          "output_type": "execute_result",
          "data": {
            "text/plain": [
              "56424696709.68354"
            ]
          },
          "metadata": {
            "tags": []
          },
          "execution_count": 92
        }
      ]
    },
    {
      "cell_type": "code",
      "metadata": {
        "id": "-W0_5XY7CYHU",
        "colab_type": "code",
        "outputId": "b0a37eb3-58aa-430a-a8e4-98cd84cacfcc",
        "colab": {
          "base_uri": "https://localhost:8080/",
          "height": 364
        }
      },
      "source": [
        "import random\n",
        "m=random.random()\n",
        "c=random.random()\n",
        "error(m,X,c,y_a)\n",
        "import matplotlib.pyplot as plt\n",
        "\n",
        "from IPython.display import clear_output\n",
        "flag=0\n",
        "error_list=[]\n",
        "i=0\n",
        "lr=0.0000001\n",
        "while(True):\n",
        "  e=error(m,X,c,y_a)\n",
        "  error_list.append(e)\n",
        "  plt.plot(error_list)\n",
        "  i+=1\n",
        "  if(i>=500):\n",
        "    flag='Iteration'\n",
        "    break\n",
        "  elif(e<56):\n",
        "    flag='error'\n",
        "    break\n",
        "  m=m- lr*der_m(m,X,c,y_a)\n",
        "  c=c-lr*der_c(m,X,c,y_a)\n",
        "\n",
        "  clear_output(True)  \n",
        "\n",
        "print(\"loop ended due to\",flag)\n",
        "print(error_list)\n",
        "print(m,c)\n",
        "plt.plot(error_list)\n",
        "plt.show"
      ],
      "execution_count": 0,
      "outputs": [
        {
          "output_type": "stream",
          "text": [
            "loop ended due to Iteration\n",
            "[56423813898.20715, 56423429474.71379, 56423045054.224434, 56422660636.73906, 56422276222.25763, 56421891810.78015, 56421507402.306595, 56421122996.83693, 56420738594.37112, 56420354194.90916, 56419969798.451004, 56419585404.99666, 56419201014.54609, 56418816627.099266, 56418432242.65616, 56418047861.21677, 56417663482.78105, 56417279107.34899, 56416894734.920555, 56416510365.495735, 56416125999.0745, 56415741635.65683, 56415357275.24269, 56414972917.832085, 56414588563.424934, 56414204212.021286, 56413819863.621056, 56413435518.224266, 56413051175.830864, 56412666836.440834, 56412282500.05417, 56411898166.67081, 56411513836.29077, 56411129508.914, 56410745184.5405, 56410360863.17023, 56409976544.80316, 56409592229.43928, 56409207917.07857, 56408823607.720985, 56408439301.36652, 56408054998.015144, 56407670697.666855, 56407286400.321594, 56406902105.97936, 56406517814.64013, 56406133526.30388, 56405749240.97056, 56405364958.640175, 56404980679.3127, 56404596402.98811, 56404212129.66637, 56403827859.347466, 56403443592.031364, 56403059327.71806, 56402675066.40753, 56402290808.099724, 56401906552.79464, 56401522300.49224, 56401138051.19252, 56400753804.89545, 56400369561.60098, 56399985321.30915, 56399601084.01987, 56399216849.73315, 56398832618.44895, 56398448390.16726, 56398064164.888054, 56397679942.611305, 56397295723.336975, 56396911507.06509, 56396527293.79556, 56396143083.52843, 56395758876.26361, 56395374672.00113, 56394990470.74094, 56394606272.48302, 56394222077.22733, 56393837884.973885, 56393453695.72263, 56393069509.47356, 56392685326.22663, 56392301145.98184, 56391916968.73916, 56391532794.49856, 56391148623.260025, 56390764455.023506, 56390380289.789024, 56389996127.55652, 56389611968.32599, 56389227812.09739, 56388843658.87072, 56388459508.645935, 56388075361.42303, 56387691217.20198, 56387307075.98275, 56386922937.76532, 56386538802.54966, 56386154670.335754, 56385770541.12359, 56385386414.91314, 56385002291.70436, 56384618171.49725, 56384234054.29178, 56383849940.08791, 56383465828.88565, 56383081720.68495, 56382697615.48579, 56382313513.28815, 56381929414.092, 56381545317.89734, 56381161224.70412, 56380777134.51232, 56380393047.32194, 56380008963.13292, 56379624881.945274, 56379240803.75896, 56378856728.573944, 56378472656.39021, 56378088587.20774, 56377704521.02652, 56377320457.84652, 56376936397.6677, 56376552340.49004, 56376168286.313545, 56375784235.13817, 56375400186.96388, 56375016141.79067, 56374632099.618515, 56374248060.44737, 56373864024.27725, 56373479991.108116, 56373095960.939926, 56372711933.77267, 56372327909.60633, 56371943888.440865, 56371559870.27628, 56371175855.112526, 56370791842.949585, 56370407833.78745, 56370023827.62609, 56369639824.46546, 56369255824.30554, 56368871827.14635, 56368487832.98781, 56368103841.82995, 56367719853.6727, 56367335868.51606, 56366951886.36, 56366567907.20449, 56366183931.04953, 56365799957.89509, 56365415987.74113, 56365032020.587616, 56364648056.43456, 56364264095.28192, 56363880137.12968, 56363496181.977806, 56363112229.82628, 56362728280.67508, 56362344334.52418, 56361960391.37355, 56361576451.22318, 56361192514.07305, 56360808579.92312, 56360424648.77336, 56360040720.62378, 56359656795.474335, 56359272873.32499, 56358888954.17574, 56358505038.02656, 56358121124.877426, 56357737214.72831, 56357353307.579185, 56356969403.43003, 56356585502.28083, 56356201604.13155, 56355817708.982185, 56355433816.83269, 56355049927.683044, 56354666041.53324, 56354282158.38324, 56353898278.23303, 56353514401.08257, 56353130526.93187, 56352746655.78087, 56352362787.62956, 56351978922.47792, 56351595060.32593, 56351211201.17355, 56350827345.02078, 56350443491.86758, 56350059641.71393, 56349675794.55979, 56349291950.405174, 56348908109.25004, 56348524271.094345, 56348140435.938095, 56347756603.78126, 56347372774.62381, 56346988948.46571, 56346605125.30696, 56346221305.14753, 56345837487.9874, 56345453673.82651, 56345069862.66489, 56344686054.50249, 56344302249.33928, 56343918447.17524, 56343534648.010376, 56343150851.84463, 56342767058.677986, 56342383268.51043, 56341999481.34193, 56341615697.172455, 56341231916.002, 56340848137.83053, 56340464362.65802, 56340080590.48447, 56339696821.30982, 56339313055.13407, 56338929291.95719, 56338545531.77916, 56338161774.59995, 56337778020.41955, 56337394269.23792, 56337010521.055046, 56336626775.870895, 56336243033.685455, 56335859294.49871, 56335475558.31061, 56335091825.12116, 56334708094.93031, 56334324367.73806, 56333940643.54436, 56333556922.34923, 56333173204.152596, 56332789488.95446, 56332405776.75481, 56332022067.5536, 56331638361.350815, 56331254658.14644, 56330870957.94043, 56330487260.73279, 56330103566.52347, 56329719875.31247, 56329336187.09975, 56328952501.885284, 56328568819.669075, 56328185140.45106, 56327801464.23125, 56327417791.009605, 56327034120.7861, 56326650453.56073, 56326266789.333435, 56325883128.10423, 56325499469.87308, 56325115814.639946, 56324732162.40481, 56324348513.16767, 56323964866.92848, 56323581223.68723, 56323197583.443886, 56322813946.198425, 56322430311.95083, 56322046680.70108, 56321663052.44914, 56321279427.195, 56320895804.938614, 56320512185.67999, 56320128569.41909, 56319744956.155876, 56319361345.89034, 56318977738.62247, 56318594134.35222, 56318210533.07959, 56317826934.80451, 56317443339.52702, 56317059747.247055, 56316676157.96459, 56316292571.67963, 56315908988.392136, 56315525408.10208, 56315141830.809425, 56314758256.51419, 56314374685.21631, 56313991116.91579, 56313607551.61259, 56313223989.30669, 56312840429.99806, 56312456873.68669, 56312073320.37256, 56311689770.055626, 56311306222.73588, 56310922678.41331, 56310539137.08785, 56310155598.759514, 56309772063.428276, 56309388531.09409, 56309005001.756966, 56308621475.41685, 56308237952.07374, 56307854431.72759, 56307470914.378395, 56307087400.02613, 56306703888.67078, 56306320380.312294, 56305936874.95066, 56305553372.58588, 56305169873.21788, 56304786376.84669, 56304402883.47225, 56304019393.09455, 56303635905.71358, 56303252421.32928, 56302868939.94166, 56302485461.55068, 56302101986.156334, 56301718513.758575, 56301335044.3574, 56300951577.95277, 56300568114.54467, 56300184654.133064, 56299801196.717964, 56299417742.29931, 56299034290.87709, 56298650842.45129, 56298267397.02186, 56297883954.5888, 56297500515.152084, 56297117078.71169, 56296733645.267586, 56296350214.81975, 56295966787.36818, 56295583362.9128, 56295199941.45364, 56294816522.99066, 56294433107.523834, 56294049695.05313, 56293666285.578545, 56293282879.10003, 56292899475.617584, 56292516075.13117, 56292132677.64076, 56291749283.14637, 56291365891.64792, 56290982503.14542, 56290599117.63884, 56290215735.12815, 56289832355.613335, 56289448979.09438, 56289065605.57124, 56288682235.043915, 56288298867.51236, 56287915502.976555, 56287532141.436485, 56287148782.892136, 56286765427.34345, 56286382074.79046, 56285998725.23307, 56285615378.671326, 56285232035.10516, 56284848694.53456, 56284465356.95951, 56284082022.379974, 56283698690.79595, 56283315362.2074, 56282932036.61429, 56282548714.01661, 56282165394.41434, 56281782077.80744, 56281398764.195915, 56281015453.57971, 56280632145.958824, 56280248841.33322, 56279865539.70288, 56279482241.06778, 56279098945.427895, 56278715652.783226, 56278332363.133705, 56277949076.47934, 56277565792.8201, 56277182512.15595, 56276799234.48689, 56276415959.812874, 56276032688.13389, 56275649419.44992, 56275266153.760925, 56274882891.066895, 56274499631.36779, 56274116374.66361, 56273733120.95431, 56273349870.23988, 56272966622.520294, 56272583377.79555, 56272200136.06557, 56271816897.33037, 56271433661.58992, 56271050428.84419, 56270667199.09317, 56270283972.33683, 56269900748.57516, 56269517527.808105, 56269134310.03565, 56268751095.2578, 56268367883.4745, 56267984674.685745, 56267601468.89149, 56267218266.09174, 56266835066.28645, 56266451869.47562, 56266068675.659195, 56265685484.83717, 56265302297.00954, 56264919112.17625, 56264535930.33729, 56264152751.49262, 56263769575.64225, 56263386402.786125, 56263003232.92424, 56262620066.05656, 56262236902.183075, 56261853741.30376, 56261470583.41856, 56261087428.527504, 56260704276.63053, 56260321127.72762, 56259937981.81877, 56259554838.903946, 56259171698.983116, 56258788562.05627, 56258405428.12337, 56258022297.184395, 56257639169.23934, 56257256044.28816, 56256872922.33084, 56256489803.36736, 56256106687.39768, 56255723574.42181, 56255340464.4397, 56254957357.45133, 56254574253.45668, 56254191152.45573, 56253808054.448456, 56253424959.434814, 56253041867.41481, 56252658778.38841, 56252275692.35558, 56251892609.31632, 56251509529.270584, 56251126452.21836, 56250743378.15962, 56250360307.09434, 56249977239.0225, 56249594173.944084, 56249211111.859055, 56248828052.76738, 56248444996.66908, 56248061943.564064, 56247678893.452385, 56247295846.33395, 56246912802.20878, 56246529761.07684, 56246146722.93811, 56245763687.79254, 56245380655.64016, 56244997626.4809, 56244614600.31475, 56244231577.141685, 56243848556.96169, 56243465539.774734, 56243082525.580795, 56242699514.37985, 56242316506.17188, 56241933500.95686, 56241550498.73475, 56241167499.50556, 56240784503.26924, 56240401510.025764, 56240018519.77513, 56239635532.51731, 56239252548.25225, 56238869566.979965, 56238486588.70042, 56238103613.41359, 56237720641.11944, 56237337671.81796, 56236954705.50913, 56236571742.19292, 56236188781.8693, 56235805824.53826, 56235422870.199776, 56235039918.853806, 56234656970.50034, 56234274025.139366, 56233891082.770836, 56233508143.39475, 56233125207.01106, 56232742273.61977, 56232359343.22084]\n",
            "96.02513933043609 21.517744314764048\n"
          ],
          "name": "stdout"
        },
        {
          "output_type": "execute_result",
          "data": {
            "text/plain": [
              "<function matplotlib.pyplot.show>"
            ]
          },
          "metadata": {
            "tags": []
          },
          "execution_count": 93
        },
        {
          "output_type": "display_data",
          "data": {
            "image/png": "[encoded data removed]",
            "text/plain": [
              "<Figure size 432x288 with 1 Axes>"
            ]
          },
          "metadata": {
            "tags": []
          }
        }
      ]
    },
    {
      "cell_type": "markdown",
      "metadata": {
        "id": "TxxUbzqBL93o",
        "colab_type": "text"
      },
      "source": [
        "About data: This data is about California Housing Prices\n",
        "\n",
        "And you may see a lot of columns here, so these columns are about details about group of houses in a block\n",
        "\n",
        "Let's assume there are 100 blocks in a city\n",
        "So for each block the've calculated some statistical features out of a block\n",
        "median_income: Such as Median(statistics) of Income of people living a block \n",
        "median_house_value: Median(statistics) price of all the houses in a block \n",
        "\n",
        "\n",
        "Task #1: print shapes of X as well as y_a (1 Mark)\n",
        "\n",
        "Task #2: Make line function and make it work properly (2 Marks)\n",
        "\n",
        "Task #3: Make error functions and make it work properly ( 2 Marks) \n",
        "\n",
        "Task #4: Make both derivative functions (2 Marks)\n",
        "Bonus marks if you anyhow implement both derivative equations into one functions\n",
        "\n",
        "Task #5 Minimize error using gradient descent(Your error minimizing curve should be linear or slightly curvy) (Marks between 1-3)\n",
        "\n",
        "\n",
        "Name the notebook(Exactly Copy this): \n",
        "DSAlpha | Assignment_1 | Univariate Linear Regression | California Housing Prices\n",
        "\n",
        "Put your name in this google sheet with assignment link:\n",
        "https://docs.google.com/spreadsheets/d/11a7WHY2aNEM0nq8AfqC6LMIoxkkySx0fOOHvnLEXX5Q/edit?usp=sharing"
      ]
    },
    {
      "cell_type": "code",
      "metadata": {
        "id": "Wg3OfCqML1rE",
        "colab_type": "code",
        "outputId": "f415f45d-97e6-4824-fc44-354053cfcff0",
        "colab": {
          "base_uri": "https://localhost:8080/",
          "height": 34
        }
      },
      "source": [
        "'''TODO \n",
        "Start doing the assignment here'''"
      ],
      "execution_count": 0,
      "outputs": [
        {
          "output_type": "execute_result",
          "data": {
            "text/plain": [
              "'TODO \\nStart doing the assignment here'"
            ]
          },
          "metadata": {
            "tags": []
          },
          "execution_count": 11
        }
      ]
    }
  ]
}